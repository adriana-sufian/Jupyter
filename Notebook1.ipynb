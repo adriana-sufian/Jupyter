{
 "cells": [
  {
   "cell_type": "markdown",
   "metadata": {
    "collapsed": true
   },
   "source": [
    "# My Jupyter Notebook on IBM Watson Studio"
   ]
  },
  {
   "cell_type": "markdown",
   "metadata": {},
   "source": [
    "My name is __Adriana Sufian__\n",
    "<br> \n",
    "I want to become a data scientist."
   ]
  },
  {
   "cell_type": "markdown",
   "metadata": {},
   "source": [
    "_I am interest in data science because it is a subject that fascinates me. I like analyzing things and drawing conclusions for them so this seems like the right thing for me_"
   ]
  },
  {
   "cell_type": "markdown",
   "metadata": {},
   "source": [
    "### My code is supposed to calculate 4 * 12 + 56 and print the result out"
   ]
  },
  {
   "cell_type": "code",
   "execution_count": 1,
   "metadata": {},
   "outputs": [
    {
     "name": "stdout",
     "output_type": "stream",
     "text": [
      "104\n"
     ]
    }
   ],
   "source": [
    "x = 4 * 12 + 56\n",
    "print (x)"
   ]
  },
  {
   "cell_type": "markdown",
   "metadata": {},
   "source": [
    "#### Bullet Point\n",
    "- Favourite Fruits:\n",
    "    - Watermelon\n",
    "    - Mango\n",
    "    - Grape\n",
    "\n",
    "#### Numbered List\n",
    "Top 3 Favourite TV Shows:\n",
    "1. Brooklyn Nine Nine\n",
    "1. Derry Girls\n",
    "1. Bojack Horseman\n",
    "\n",
    "#### Strikethrough\n",
    "My laptop password is ~1234~ (not real)"
   ]
  },
  {
   "cell_type": "code",
   "execution_count": null,
   "metadata": {},
   "outputs": [],
   "source": []
  }
 ],
 "metadata": {
  "kernelspec": {
   "display_name": "Python 3.9",
   "language": "python",
   "name": "python3"
  },
  "language_info": {
   "codemirror_mode": {
    "name": "ipython",
    "version": 3
   },
   "file_extension": ".py",
   "mimetype": "text/x-python",
   "name": "python",
   "nbconvert_exporter": "python",
   "pygments_lexer": "ipython3",
   "version": "3.9.12"
  }
 },
 "nbformat": 4,
 "nbformat_minor": 1
}
